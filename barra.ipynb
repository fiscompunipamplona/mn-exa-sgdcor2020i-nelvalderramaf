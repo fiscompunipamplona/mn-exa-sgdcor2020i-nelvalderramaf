{
 "cells": [
  {
   "cell_type": "markdown",
   "metadata": {},
   "source": [
    "funsion del metodo de simpson"
   ]
  },
  {
   "cell_type": "code",
   "execution_count": 1,
   "metadata": {},
   "outputs": [],
   "source": [
    "from numpy import pi,linspace,sqrt,empty,zeros\n",
    "from pylab  import plot,legend,show,imshow,gray,colorbar\n",
    "paso=1\n",
    "def E(r,x):\n",
    "    if (r == 0):\n",
    "        return 1/4\n",
    "    def f(xb):\n",
    "        return(1/sqrt(xb**2+y**2))\n",
    "    a=x\n",
    "    b=x+1\n",
    "  \n",
    "\n",
    "    N=100\n",
    "    \n",
    "\n",
    "    h=(b-a)/N\n",
    "    suma1=0\n",
    "    suma2=0\n",
    "    \n",
    "    for k in range(1,N,2):\n",
    "        suma1=suma1+f(a+(2*k-1)*h)\n",
    "        suma2=suma2+f(a+2*k*h)\n",
    "    I=(h/3)*(f(a)+f(b)+4*suma1+2*suma2)\n",
    "    E_0=8.8541878176e-12\n",
    "    l=((5)/(4*pi*E_0))\n",
    "    return(I*l)"
   ]
  },
  {
   "cell_type": "markdown",
   "metadata": {},
   "source": [
    "armar matriz nxn que guarda el valor de las integrales dependiendo de la posision en (x,y)"
   ]
  },
  {
   "cell_type": "code",
   "execution_count": 2,
   "metadata": {},
   "outputs": [
    {
     "data": {
      "image/png": "[encoded data removed]",
      "text/plain": [
       "<Figure size 432x288 with 2 Axes>"
      ]
     },
     "metadata": {
      "needs_background": "light"
     },
     "output_type": "display_data"
    }
   ],
   "source": [
    "pixeles=100\n",
    "matriz=empty([pixeles,pixeles],float)\n",
    "x_puntos = linspace(0,2,pixeles)\n",
    "for x in range(pixeles):\n",
    "    for y in range(pixeles):\n",
    "        if y!=0:\n",
    "            matriz[x,y]=E(x_puntos[x],x_puntos[y])\n",
    "        else:\n",
    "            matriz[x,y]=0\n",
    "        #print(matriz[x,y])\n",
    "imshow(matriz,extent=[0,2,0,2])\n",
    "colorbar()\n",
    "show()"
   ]
  },
  {
   "cell_type": "code",
   "execution_count": null,
   "metadata": {},
   "outputs": [],
   "source": []
  }
 ],
 "metadata": {
  "kernelspec": {
   "display_name": "Python 3",
   "language": "python",
   "name": "python3"
  },
  "language_info": {
   "codemirror_mode": {
    "name": "ipython",
    "version": 3
   },
   "file_extension": ".py",
   "mimetype": "text/x-python",
   "name": "python",
   "nbconvert_exporter": "python",
   "pygments_lexer": "ipython3",
   "version": "3.7.6"
  }
 },
 "nbformat": 4,
 "nbformat_minor": 4
}
